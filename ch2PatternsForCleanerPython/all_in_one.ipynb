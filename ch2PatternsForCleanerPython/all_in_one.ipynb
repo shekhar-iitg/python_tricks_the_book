{
 "cells": [
  {
   "cell_type": "markdown",
   "metadata": {},
   "source": [
    "# 0_assert.py"
   ]
  },
  {
   "cell_type": "code",
   "execution_count": 1,
   "metadata": {},
   "outputs": [
    {
     "name": "stdout",
     "output_type": "stream",
     "text": [
      "11175\n"
     ]
    },
    {
     "ename": "AssertionError",
     "evalue": "Discount is more than 100%.",
     "output_type": "error",
     "traceback": [
      "\u001b[0;31m---------------------------------------------------------------------------\u001b[0m",
      "\u001b[0;31mAssertionError\u001b[0m                            Traceback (most recent call last)",
      "Cell \u001b[0;32mIn[1], line 10\u001b[0m\n\u001b[1;32m      6\u001b[0m shoes \u001b[38;5;241m=\u001b[39m {\u001b[38;5;124m'\u001b[39m\u001b[38;5;124mname\u001b[39m\u001b[38;5;124m'\u001b[39m: \u001b[38;5;124m'\u001b[39m\u001b[38;5;124mFancy Shoes\u001b[39m\u001b[38;5;124m'\u001b[39m, \u001b[38;5;124m'\u001b[39m\u001b[38;5;124mprice\u001b[39m\u001b[38;5;124m'\u001b[39m: \u001b[38;5;241m14900\u001b[39m}\n\u001b[1;32m      8\u001b[0m \u001b[38;5;28mprint\u001b[39m(apply_discount(shoes, \u001b[38;5;241m0.25\u001b[39m))\n\u001b[0;32m---> 10\u001b[0m \u001b[38;5;28mprint\u001b[39m(\u001b[43mapply_discount\u001b[49m\u001b[43m(\u001b[49m\u001b[43mshoes\u001b[49m\u001b[43m,\u001b[49m\u001b[43m \u001b[49m\u001b[38;5;241;43m2.0\u001b[39;49m\u001b[43m)\u001b[49m)\n",
      "Cell \u001b[0;32mIn[1], line 3\u001b[0m, in \u001b[0;36mapply_discount\u001b[0;34m(product, discount)\u001b[0m\n\u001b[1;32m      1\u001b[0m \u001b[38;5;28;01mdef\u001b[39;00m \u001b[38;5;21mapply_discount\u001b[39m(product, discount):\n\u001b[1;32m      2\u001b[0m     price \u001b[38;5;241m=\u001b[39m \u001b[38;5;28mint\u001b[39m(product[\u001b[38;5;124m'\u001b[39m\u001b[38;5;124mprice\u001b[39m\u001b[38;5;124m'\u001b[39m] \u001b[38;5;241m*\u001b[39m (\u001b[38;5;241m1.0\u001b[39m \u001b[38;5;241m-\u001b[39m discount))\n\u001b[0;32m----> 3\u001b[0m     \u001b[38;5;28;01massert\u001b[39;00m \u001b[38;5;241m0\u001b[39m \u001b[38;5;241m<\u001b[39m\u001b[38;5;241m=\u001b[39m price \u001b[38;5;241m<\u001b[39m\u001b[38;5;241m=\u001b[39m product[\u001b[38;5;124m'\u001b[39m\u001b[38;5;124mprice\u001b[39m\u001b[38;5;124m'\u001b[39m], \u001b[38;5;124m'\u001b[39m\u001b[38;5;124mDiscount is more than 100\u001b[39m\u001b[38;5;124m%\u001b[39m\u001b[38;5;124m.\u001b[39m\u001b[38;5;124m'\u001b[39m\n\u001b[1;32m      4\u001b[0m     \u001b[38;5;28;01mreturn\u001b[39;00m price\n",
      "\u001b[0;31mAssertionError\u001b[0m: Discount is more than 100%."
     ]
    }
   ],
   "source": [
    "def apply_discount(product, discount):\n",
    "    price = int(product['price'] * (1.0 - discount))\n",
    "    assert 0 <= price <= product['price'], 'Discount is more than 100%.'\n",
    "    return price\n",
    "\n",
    "shoes = {'name': 'Fancy Shoes', 'price': 14900}\n",
    "\n",
    "print(apply_discount(shoes, 0.25))\n",
    "\n",
    "print(apply_discount(shoes, 2.0))"
   ]
  },
  {
   "cell_type": "markdown",
   "metadata": {},
   "source": [
    "# 1_assert_that_never_fails.py"
   ]
  },
  {
   "cell_type": "code",
   "execution_count": 2,
   "metadata": {},
   "outputs": [
    {
     "name": "stderr",
     "output_type": "stream",
     "text": [
      "<>:1: SyntaxWarning: assertion is always true, perhaps remove parentheses?\n",
      "<>:1: SyntaxWarning: assertion is always true, perhaps remove parentheses?\n",
      "/var/folders/58/9s6s48md3p1fk0lfvk65jzk00000gn/T/ipykernel_10792/1978679994.py:1: SyntaxWarning: assertion is always true, perhaps remove parentheses?\n",
      "  assert(1==2, 'This should Fail')\n"
     ]
    },
    {
     "ename": "AssertionError",
     "evalue": "This should Fail",
     "output_type": "error",
     "traceback": [
      "\u001b[0;31m---------------------------------------------------------------------------\u001b[0m",
      "\u001b[0;31mAssertionError\u001b[0m                            Traceback (most recent call last)",
      "Cell \u001b[0;32mIn[2], line 3\u001b[0m\n\u001b[1;32m      1\u001b[0m \u001b[38;5;28;01massert\u001b[39;00m(\u001b[38;5;241m1\u001b[39m\u001b[38;5;241m==\u001b[39m\u001b[38;5;241m2\u001b[39m, \u001b[38;5;124m'\u001b[39m\u001b[38;5;124mThis should Fail\u001b[39m\u001b[38;5;124m'\u001b[39m)\n\u001b[0;32m----> 3\u001b[0m \u001b[38;5;28;01massert\u001b[39;00m \u001b[38;5;241m3\u001b[39m\u001b[38;5;241m==\u001b[39m\u001b[38;5;241m4\u001b[39m, \u001b[38;5;124m'\u001b[39m\u001b[38;5;124mThis should Fail\u001b[39m\u001b[38;5;124m'\u001b[39m\n",
      "\u001b[0;31mAssertionError\u001b[0m: This should Fail"
     ]
    }
   ],
   "source": [
    "assert(1==2, 'This should Fail')\n",
    "\n",
    "assert 3==4, 'This should Fail'"
   ]
  },
  {
   "cell_type": "markdown",
   "metadata": {},
   "source": [
    "# 2_string_literal_concatenation.py"
   ]
  },
  {
   "cell_type": "code",
   "execution_count": 3,
   "metadata": {},
   "outputs": [
    {
     "name": "stdout",
     "output_type": "stream",
     "text": [
      "['Himanshu', 'SabhyeAnurag']\n"
     ]
    }
   ],
   "source": [
    "names = [\n",
    "    'Himanshu',\n",
    "    'Sabhye'\n",
    "    'Anurag'\n",
    "]\n",
    "\n",
    "print(names)"
   ]
  },
  {
   "cell_type": "markdown",
   "metadata": {},
   "source": [
    "# 3_with_statement.py"
   ]
  },
  {
   "cell_type": "code",
   "execution_count": 5,
   "metadata": {},
   "outputs": [],
   "source": [
    "# with open('text_files/hello.txt', 'w') as f:\n",
    "#     f.write('hello, world!')"
   ]
  },
  {
   "cell_type": "markdown",
   "metadata": {},
   "source": [
    "# 4_single_underscores.py"
   ]
  },
  {
   "cell_type": "code",
   "execution_count": 6,
   "metadata": {},
   "outputs": [
    {
     "name": "stdout",
     "output_type": "stream",
     "text": [
      "--Single Leading Underscore--\n",
      "11\n",
      "23\n",
      "----------\n"
     ]
    },
    {
     "ename": "ModuleNotFoundError",
     "evalue": "No module named 'my_module'",
     "output_type": "error",
     "traceback": [
      "\u001b[0;31m---------------------------------------------------------------------------\u001b[0m",
      "\u001b[0;31mModuleNotFoundError\u001b[0m                       Traceback (most recent call last)",
      "Cell \u001b[0;32mIn[6], line 13\u001b[0m\n\u001b[1;32m      9\u001b[0m \u001b[38;5;28mprint\u001b[39m(t\u001b[38;5;241m.\u001b[39m_bar)\n\u001b[1;32m     11\u001b[0m \u001b[38;5;28mprint\u001b[39m(\u001b[38;5;124m'\u001b[39m\u001b[38;5;124m-\u001b[39m\u001b[38;5;124m'\u001b[39m\u001b[38;5;241m*\u001b[39m\u001b[38;5;241m10\u001b[39m)\n\u001b[0;32m---> 13\u001b[0m \u001b[38;5;28;01mfrom\u001b[39;00m \u001b[38;5;21;01mmy_module\u001b[39;00m \u001b[38;5;28;01mimport\u001b[39;00m \u001b[38;5;241m*\u001b[39m\n\u001b[1;32m     14\u001b[0m \u001b[38;5;28mprint\u001b[39m(external_func())\n\u001b[1;32m     15\u001b[0m \u001b[38;5;66;03m# print(_internal_func())\u001b[39;00m\n",
      "\u001b[0;31mModuleNotFoundError\u001b[0m: No module named 'my_module'"
     ]
    }
   ],
   "source": [
    "class Test:\n",
    "    def __init__(self):\n",
    "        self.foo = 11\n",
    "        self._bar = 23\n",
    "\n",
    "t = Test()\n",
    "print('--Single Leading Underscore--')\n",
    "print(t.foo)\n",
    "print(t._bar)\n",
    "\n",
    "print('-'*10)\n",
    "\n",
    "from my_module import *\n",
    "print(external_func())\n",
    "# print(_internal_func())\n",
    "\n",
    "print('-'*10)\n",
    "\n",
    "import my_module\n",
    "print(my_module.external_func())\n",
    "print(my_module._internal_func())\n",
    "\n",
    "print('--Single Trailing Underscore--')\n",
    "# def make_object(name, class):\n",
    "def make_object(name, class_):\n",
    "    pass\n"
   ]
  },
  {
   "cell_type": "markdown",
   "metadata": {},
   "source": [
    "# 5_dunders.py"
   ]
  },
  {
   "cell_type": "code",
   "execution_count": 8,
   "metadata": {},
   "outputs": [
    {
     "name": "stdout",
     "output_type": "stream",
     "text": [
      "['_Test__baz', '__class__', '__delattr__', '__dict__', '__dir__', '__doc__', '__eq__', '__format__', '__ge__', '__getattribute__', '__gt__', '__hash__', '__init__', '__init_subclass__', '__le__', '__lt__', '__module__', '__ne__', '__new__', '__reduce__', '__reduce_ex__', '__repr__', '__setattr__', '__sizeof__', '__str__', '__subclasshook__', '__weakref__', '_bar', 'foo']\n",
      "['_ExtendedTest__baz', '_Test__baz', '__class__', '__delattr__', '__dict__', '__dir__', '__doc__', '__eq__', '__format__', '__ge__', '__getattribute__', '__gt__', '__hash__', '__init__', '__init_subclass__', '__le__', '__lt__', '__module__', '__ne__', '__new__', '__reduce__', '__reduce_ex__', '__repr__', '__setattr__', '__sizeof__', '__str__', '__subclasshook__', '__weakref__', '_bar', 'foo']\n",
      "__baz of ExtendedTest Instance: Overridden\n",
      "__baz of Test Instance: 42\n"
     ]
    },
    {
     "ename": "AttributeError",
     "evalue": "'ExtendedTest' object has no attribute '__baz'",
     "output_type": "error",
     "traceback": [
      "\u001b[0;31m---------------------------------------------------------------------------\u001b[0m",
      "\u001b[0;31mAttributeError\u001b[0m                            Traceback (most recent call last)",
      "Cell \u001b[0;32mIn[8], line 22\u001b[0m\n\u001b[1;32m     20\u001b[0m \u001b[38;5;28mprint\u001b[39m(\u001b[38;5;124mf\u001b[39m\u001b[38;5;124m'\u001b[39m\u001b[38;5;124m__baz of ExtendedTest Instance: \u001b[39m\u001b[38;5;132;01m{\u001b[39;00me_t\u001b[38;5;241m.\u001b[39m_ExtendedTest__baz\u001b[38;5;132;01m}\u001b[39;00m\u001b[38;5;124m'\u001b[39m)\n\u001b[1;32m     21\u001b[0m \u001b[38;5;28mprint\u001b[39m(\u001b[38;5;124mf\u001b[39m\u001b[38;5;124m'\u001b[39m\u001b[38;5;124m__baz of Test Instance: \u001b[39m\u001b[38;5;132;01m{\u001b[39;00mt\u001b[38;5;241m.\u001b[39m_Test__baz\u001b[38;5;132;01m}\u001b[39;00m\u001b[38;5;124m'\u001b[39m)\n\u001b[0;32m---> 22\u001b[0m \u001b[38;5;28mprint\u001b[39m(\u001b[43me_t\u001b[49m\u001b[38;5;241;43m.\u001b[39;49m\u001b[43m__baz\u001b[49m)\n",
      "\u001b[0;31mAttributeError\u001b[0m: 'ExtendedTest' object has no attribute '__baz'"
     ]
    }
   ],
   "source": [
    "class Test:\n",
    "    def __init__(self):\n",
    "        self.foo = 11\n",
    "        self._bar = 23\n",
    "        self.__baz = 42\n",
    "\n",
    "t = Test()\n",
    "print(dir(t))\n",
    "\n",
    "class ExtendedTest(Test):\n",
    "    def __init__(self):\n",
    "        super().__init__()\n",
    "        self.foo = 'Overridden'\n",
    "        self._bar = 'Overridden'\n",
    "        self.__baz = 'Overridden'\n",
    "\n",
    "e_t = ExtendedTest()\n",
    "print(dir(e_t))\n",
    "\n",
    "print(f'__baz of ExtendedTest Instance: {e_t._ExtendedTest__baz}')\n",
    "print(f'__baz of Test Instance: {t._Test__baz}')\n",
    "print(e_t.__baz)"
   ]
  },
  {
   "cell_type": "markdown",
   "metadata": {},
   "source": [
    "# 6_name_mangling_affects_all_names.py"
   ]
  },
  {
   "cell_type": "code",
   "execution_count": 9,
   "metadata": {},
   "outputs": [
    {
     "name": "stdout",
     "output_type": "stream",
     "text": [
      "Hello\n",
      "42\n",
      "23\n"
     ]
    },
    {
     "ename": "AttributeError",
     "evalue": "'MangledMethod' object has no attribute '__method'",
     "output_type": "error",
     "traceback": [
      "\u001b[0;31m---------------------------------------------------------------------------\u001b[0m",
      "\u001b[0;31mAttributeError\u001b[0m                            Traceback (most recent call last)",
      "Cell \u001b[0;32mIn[9], line 28\u001b[0m\n\u001b[1;32m     27\u001b[0m \u001b[38;5;28;01mtry\u001b[39;00m:\n\u001b[0;32m---> 28\u001b[0m     \u001b[38;5;28mprint\u001b[39m(\u001b[43mManglingTest\u001b[49m\u001b[43m(\u001b[49m\u001b[43m)\u001b[49m\u001b[38;5;241;43m.\u001b[39;49m\u001b[43m__mangled\u001b[49m)\n\u001b[1;32m     29\u001b[0m \u001b[38;5;28;01mfinally\u001b[39;00m:\n",
      "\u001b[0;31mAttributeError\u001b[0m: 'ManglingTest' object has no attribute '__mangled'",
      "\nDuring handling of the above exception, another exception occurred:\n",
      "\u001b[0;31mAttributeError\u001b[0m                            Traceback (most recent call last)",
      "Cell \u001b[0;32mIn[9], line 30\u001b[0m\n\u001b[1;32m     28\u001b[0m     \u001b[38;5;28mprint\u001b[39m(ManglingTest()\u001b[38;5;241m.\u001b[39m__mangled)\n\u001b[1;32m     29\u001b[0m \u001b[38;5;28;01mfinally\u001b[39;00m:\n\u001b[0;32m---> 30\u001b[0m     \u001b[38;5;28mprint\u001b[39m(\u001b[43mMangledMethod\u001b[49m\u001b[43m(\u001b[49m\u001b[43m)\u001b[49m\u001b[38;5;241;43m.\u001b[39;49m\u001b[43m__method\u001b[49m())\n",
      "\u001b[0;31mAttributeError\u001b[0m: 'MangledMethod' object has no attribute '__method'"
     ]
    }
   ],
   "source": [
    "class ManglingTest:\n",
    "    def __init__(self):\n",
    "        self.__mangled = 'Hello'\n",
    "\n",
    "    def get_mangled(self):\n",
    "        return self.__mangled\n",
    "\n",
    "\n",
    "class MangledMethod:\n",
    "    def __method(self):\n",
    "        return 42\n",
    "\n",
    "    def call_it(self):\n",
    "        return self.__method()\n",
    "\n",
    "\n",
    "_MangledGlobal__mangled = 23\n",
    "class MangledGlobal:\n",
    "    def test(self):\n",
    "        return __mangled\n",
    "\n",
    "\n",
    "print(ManglingTest().get_mangled())\n",
    "print(MangledMethod().call_it())\n",
    "print(MangledGlobal().test())\n",
    "\n",
    "try:\n",
    "    print(ManglingTest().__mangled)\n",
    "finally:\n",
    "    print(MangledMethod().__method())"
   ]
  },
  {
   "cell_type": "markdown",
   "metadata": {},
   "source": [
    "# 7_old_style_string_formatting.py"
   ]
  },
  {
   "cell_type": "code",
   "execution_count": 10,
   "metadata": {},
   "outputs": [
    {
     "name": "stdout",
     "output_type": "stream",
     "text": [
      "Hello, Bob\n",
      "badc0ffee\n",
      "Hey Bob, there is a 0xbadc0ffee error!\n",
      "Hey Bob, there is a 0xbadc0ffee error!\n"
     ]
    }
   ],
   "source": [
    "errno = 50159747054\n",
    "name = 'Bob'\n",
    "print('Hello, %s' % name)\n",
    "\n",
    "print('%x' % errno)\n",
    "\n",
    "print('Hey %s, there is a 0x%x error!' %(name, errno))\n",
    "\n",
    "print('Hey %(name)s, there is a 0x%(errno)x error!' %{'name': name, 'errno': errno})\n"
   ]
  },
  {
   "cell_type": "markdown",
   "metadata": {},
   "source": [
    "# 8_new_style_string_formatting.py"
   ]
  },
  {
   "cell_type": "code",
   "execution_count": 11,
   "metadata": {},
   "outputs": [
    {
     "name": "stdout",
     "output_type": "stream",
     "text": [
      "Hello, Bob\n",
      "Hey Bob, there is a 0xbadc0ffee error!\n"
     ]
    }
   ],
   "source": [
    "errno = 50159747054\n",
    "name = 'Bob'\n",
    "\n",
    "print('Hello, {}'.format(name))\n",
    "\n",
    "print('Hey {name}, there is a 0x{errno:x} error!'.format(name = name, errno = errno))"
   ]
  },
  {
   "cell_type": "code",
   "execution_count": null,
   "metadata": {},
   "outputs": [],
   "source": []
  }
 ],
 "metadata": {
  "kernelspec": {
   "display_name": "mytfenv",
   "language": "python",
   "name": "python3"
  },
  "language_info": {
   "codemirror_mode": {
    "name": "ipython",
    "version": 3
   },
   "file_extension": ".py",
   "mimetype": "text/x-python",
   "name": "python",
   "nbconvert_exporter": "python",
   "pygments_lexer": "ipython3",
   "version": "3.9.21"
  }
 },
 "nbformat": 4,
 "nbformat_minor": 2
}
